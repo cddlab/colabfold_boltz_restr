{
  "nbformat": 4,
  "nbformat_minor": 0,
  "metadata": {
    "colab": {
      "provenance": [],
      "machine_shape": "hm",
      "gpuType": "T4"
    },
    "kernelspec": {
      "name": "python3",
      "display_name": "Python 3"
    },
    "language_info": {
      "name": "python"
    },
    "accelerator": "GPU"
  },
  "cells": [
    {
      "cell_type": "markdown",
      "source": [
        "# This is a work-in-progress notebook for [Boltz](https://github.com/jwohlwend/boltz)\n",
        "\n",
        "⚠️ **Warning to Users:**\n",
        "- **Alpha Version:** This notebook is currently under active development and is considered a beta version.\n",
        "- **Usage at Your Own Risk:** Use this notebook at your own discretion and risk."
      ],
      "metadata": {
        "id": "KNOrLaJFdiA-"
      }
    },
    {
      "cell_type": "code",
      "source": [
        "#@title Input protein sequence(s), then hit `Runtime` -> `Run all`\n",
        "from google.colab import files\n",
        "import os\n",
        "import re\n",
        "import hashlib\n",
        "import random\n",
        "import requests\n",
        "from string import ascii_uppercase\n",
        "\n",
        "# Function to add a hash to the jobname\n",
        "def add_hash(x, y):\n",
        "    return x + \"_\" + hashlib.sha1(y.encode()).hexdigest()[:5]\n",
        "\n",
        "# User inputs\n",
        "query_sequence = 'PIAQIHILEGRSDEQKETLIREVSEAISRSLDAPLTSVRVIITEMAKGHFGIGGELASKK'  #@param {type:\"string\"}\n",
        "#@markdown  - Use `:` to specify inter-protein chainbreaks for **modeling complexes** (supports homo- and hetro-oligomers). For example **PI...SK:PI...SK** for a homodimer\n",
        "# ligand_input = 'N[C@@H](Cc1ccc(O)cc1)C(=O)O'  #@param {type:\"string\"}\n",
        "ligand_input = 'N[C@H](Cc1ccc(O)cc1)C(=O)O'  #@param {type:\"string\"}\n",
        "#@markdown  - Use `:` to specify multiple ligands as smile strings\n",
        "ligand_input_ccd = 'SAH'  #@param {type:\"string\"}\n",
        "#@markdown - Use `:` to specify multiple ligands as CCD codes (three-letter codes)\n",
        "ligand_input_common_name = ''  #@param {type:\"string\"}\n",
        "#@markdown - Use `:` to specify multiple ligands with their common name (e.g. Aspirin; SMILES fetched from [PubChem](https://pubchem.ncbi.nlm.nih.gov) API)\n",
        "dna_input = ''  #@param {type:\"string\"}\n",
        "#@markdown - Use `:` to specify multiple DNA sequences\n",
        "jobname = 'test'  #@param {type:\"string\"}\n",
        "use_restraints = True  #@param {type:\"boolean\"}\n",
        "\n",
        "# Clean up the query sequence and jobname\n",
        "query_sequence = \"\".join(query_sequence.split())\n",
        "ligand_input = \"\".join(ligand_input.split())\n",
        "ligand_input_ccd = \"\".join(ligand_input_ccd.split())\n",
        "ligand_input_common_name = \"\".join(ligand_input_common_name.split())\n",
        "dna_input = \"\".join(dna_input.split())\n",
        "basejobname = \"\".join(jobname.split())\n",
        "basejobname = re.sub(r'\\W+', '', basejobname)\n",
        "jobname = add_hash(basejobname, query_sequence)\n",
        "\n",
        "# Check if a directory with jobname exists\n",
        "def check(folder):\n",
        "    return not os.path.exists(folder)\n",
        "\n",
        "if not check(jobname):\n",
        "    n = 0\n",
        "    while not check(f\"{jobname}_{n}\"):\n",
        "        n += 1\n",
        "    jobname = f\"{jobname}_{n}\"\n",
        "\n",
        "# Make directory to save results\n",
        "os.makedirs(jobname, exist_ok=True)\n",
        "\n",
        "from string import ascii_uppercase\n",
        "\n",
        "# Split sequences on chain breaks\n",
        "protein_sequences = query_sequence.strip().split(':') if query_sequence.strip() else []\n",
        "ligand_sequences = ligand_input.strip().split(':') if ligand_input.strip() else []\n",
        "ligand_sequences_ccd = ligand_input_ccd.strip().split(':') if ligand_input_ccd.strip() else []\n",
        "ligand_sequences_common_name = ligand_input_common_name.strip().split(':') if ligand_input_common_name.strip() else []\n",
        "dna_sequences = dna_input.strip().split(':') if dna_input.strip() else []\n",
        "\n",
        "def get_smiles(compound_name):\n",
        "    autocomplete_url = f\"https://pubchem.ncbi.nlm.nih.gov/rest/autocomplete/compound/{compound_name}/json?limit=1\"\n",
        "    autocomplete_response = requests.get(autocomplete_url)\n",
        "    if autocomplete_response.status_code != 200:\n",
        "        return None\n",
        "\n",
        "    autocomplete_data = autocomplete_response.json()\n",
        "    if autocomplete_data.get(\"status\", {}).get(\"code\") != 0 or autocomplete_data.get(\"total\", 0) == 0:\n",
        "        return None\n",
        "\n",
        "    suggested_compound = autocomplete_data.get(\"dictionary_terms\", {}).get(\"compound\", [])\n",
        "    if not suggested_compound:\n",
        "        return None\n",
        "    suggested_compound_name = suggested_compound[0]\n",
        "\n",
        "    smiles_url = f\"https://pubchem.ncbi.nlm.nih.gov/rest/pug/compound/name/{suggested_compound_name}/property/CanonicalSMILES/JSON\"\n",
        "    smiles_response = requests.get(smiles_url)\n",
        "    if smiles_response.status_code != 200:\n",
        "        return None\n",
        "\n",
        "    smiles_data = smiles_response.json()\n",
        "    properties = smiles_data.get(\"PropertyTable\", {}).get(\"Properties\", [])\n",
        "    if len(properties) == 0:\n",
        "        return None\n",
        "\n",
        "    return properties[0].get(\"CanonicalSMILES\")\n",
        "\n",
        "smiles_cache = {}\n",
        "for name in ligand_sequences_common_name:\n",
        "    if name not in smiles_cache:\n",
        "        smiles_cache[name] = get_smiles(name)\n",
        "        if smiles_cache[name] is not None:\n",
        "          print(f\"Mapped compound {name} to {smiles_cache[name]}\")\n",
        "\n",
        "    if smiles_cache[name] is not None:\n",
        "        ligand_sequences.append(smiles_cache[name])\n",
        "\n",
        "# Initialize chain labels starting from 'A'\n",
        "chain_labels = iter(ascii_uppercase)\n",
        "\n",
        "fasta_entries = []\n",
        "csv_entries = []\n",
        "chain_label_to_seq_id = {}\n",
        "seq_to_seq_id = {}\n",
        "seq_id_counter = 0  # Counter for unique sequences\n",
        "\n",
        "# Process protein sequences\n",
        "for seq in protein_sequences:\n",
        "    seq = seq.strip()\n",
        "    if not seq:\n",
        "        continue  # Skip empty sequences\n",
        "    chain_label = next(chain_labels)\n",
        "    # Check if sequence has been seen before\n",
        "    if seq in seq_to_seq_id:\n",
        "        seq_id = seq_to_seq_id[seq]\n",
        "    else:\n",
        "        seq_id = f\"{jobname}_{seq_id_counter}\"\n",
        "        seq_to_seq_id[seq] = seq_id\n",
        "        seq_id_counter += 1\n",
        "        # For CSV file (for ColabFold), add only unique sequences\n",
        "        csv_entries.append((seq_id, seq))\n",
        "    chain_label_to_seq_id[chain_label] = seq_id\n",
        "    # For FASTA file\n",
        "    msa_path = os.path.join(jobname, f\"{seq_id}.a3m\")\n",
        "    header = f\">{chain_label}|protein|{msa_path}\"\n",
        "    sequence = seq\n",
        "    fasta_entries.append((header, sequence))\n",
        "\n",
        "# Process ligand sequences (assumed to be SMILES strings)\n",
        "for lig in ligand_sequences:\n",
        "    lig = lig.strip()\n",
        "    if not lig:\n",
        "        continue  # Skip empty ligands\n",
        "    chain_label = next(chain_labels)\n",
        "    lig_type = 'smiles'\n",
        "    header = f\">{chain_label}|{lig_type}\"\n",
        "    sequence = lig\n",
        "    fasta_entries.append((header, sequence))\n",
        "\n",
        "# Process DNA sequences (NO MSA is generated)\n",
        "for seq in dna_sequences:\n",
        "    seq = seq.strip()\n",
        "    if not seq:\n",
        "        continue  # Skip empty sequences\n",
        "    chain_label = next(chain_labels)\n",
        "    lig_type = 'DNA'\n",
        "    header = f\">{chain_label}|{lig_type}\"\n",
        "    sequence = seq\n",
        "    fasta_entries.append((header, sequence))\n",
        "\n",
        "# Process ligand sequences (CCD codes)\n",
        "for lig in ligand_sequences_ccd:\n",
        "    lig = lig.strip()\n",
        "    if not lig:\n",
        "        continue  # Skip empty ligands\n",
        "    chain_label = next(chain_labels)\n",
        "    lig_type = 'ccd'\n",
        "    header = f\">{chain_label}|{lig_type}\"\n",
        "    sequence = lig.upper()  # Ensure CCD codes are uppercase\n",
        "    fasta_entries.append((header, sequence))\n",
        "\n",
        "# Write the CSV file for ColabFold\n",
        "queries_path = os.path.join(jobname, f\"{jobname}.csv\")\n",
        "with open(queries_path, \"w\") as text_file:\n",
        "    text_file.write(\"id,sequence\\n\")\n",
        "    for seq_id, seq in csv_entries:\n",
        "        text_file.write(f\"{seq_id},{seq}\\n\")\n",
        "\n",
        "# Write the FASTA file\n",
        "queries_fasta = os.path.join(jobname, f\"{jobname}.fasta\")\n",
        "with open(queries_fasta, 'w') as f:\n",
        "    for header, sequence in fasta_entries:\n",
        "        f.write(f\"{header}\\n{sequence}\\n\")\n",
        "\n",
        "# Optionally, print the output for verification\n",
        "#print(f\"Generated FASTA file '{queries_fasta}':\\n\")\n",
        "#for header, sequence in fasta_entries:\n",
        "#    print(f\"{header}\\n{sequence}\\n\")\n"
      ],
      "metadata": {
        "cellView": "form",
        "id": "AcYvVeDESi2a"
      },
      "execution_count": 23,
      "outputs": []
    },
    {
      "cell_type": "code",
      "execution_count": 20,
      "metadata": {
        "id": "4eXNO1JJHYrB",
        "outputId": "daa0293b-d93e-4b99-c9c3-90752f1e9504",
        "colab": {
          "base_uri": "https://localhost:8080/"
        },
        "cellView": "form"
      },
      "outputs": [
        {
          "output_type": "stream",
          "name": "stdout",
          "text": [
            "CPU times: user 0 ns, sys: 673 µs, total: 673 µs\n",
            "Wall time: 536 µs\n"
          ]
        }
      ],
      "source": [
        "#@title Install dependencies\n",
        "%%time\n",
        "import os\n",
        "if not os.path.isfile(\"COLABFOLD_READY\"):\n",
        "  print(\"installing colabfold...\")\n",
        "  os.system(\"pip install -q --no-warn-conflicts 'colabfold[alphafold-minus-jax] @ git+https://github.com/sokrypton/ColabFold'\")\n",
        "  if os.environ.get('TPU_NAME', False) != False:\n",
        "    os.system(\"pip uninstall -y jax jaxlib\")\n",
        "    os.system(\"pip install --no-warn-conflicts --upgrade dm-haiku==0.0.10 'jax[cuda12_pip]'==0.3.25 -f https://storage.googleapis.com/jax-releases/jax_cuda_releases.html\")\n",
        "  os.system(\"ln -s /usr/local/lib/python3.*/dist-packages/colabfold colabfold\")\n",
        "  os.system(\"ln -s /usr/local/lib/python3.*/dist-packages/alphafold alphafold\")\n",
        "  os.system(\"touch COLABFOLD_READY\")\n",
        "\n",
        "if not os.path.isfile(\"BOLZ_READY\"):\n",
        "  os.system(\"apt-get install -y aria2\")\n",
        "  os.system(\"pip install -q --no-warn-conflicts boltz\")\n",
        "  os.system(\"mkdir weights\")\n",
        "  os.system(\"aria2c -d weights -x8 -s8 https://colabfold.steineggerlab.workers.dev/boltz1.ckpt\")\n",
        "  os.system(\"aria2c -d weights -x8 -s8 https://colabfold.steineggerlab.workers.dev/ccd.pkl\")\n",
        "  os.system(\"pip install biopython==1.84 pyyaml==6.0.2\")\n",
        "  os.system(\"touch BOLZ_READY\")"
      ]
    },
    {
      "cell_type": "code",
      "source": [
        "#@title Generate yaml file\n",
        "from pathlib import Path\n",
        "from Bio import SeqIO\n",
        "import yaml\n",
        "\n",
        "def parse_fasta(path, use_restraints=False):\n",
        "    with path.open(\"r\") as f:\n",
        "        records = list(SeqIO.parse(f, \"fasta\"))\n",
        "    #print(records)\n",
        "    # Make sure all records have a chain id and entity\n",
        "    for seq_record in records:\n",
        "        if \"|\" not in seq_record.id:\n",
        "            msg = f\"Invalid record id: {seq_record.id}\"\n",
        "            raise ValueError(msg)\n",
        "\n",
        "        header = seq_record.id.split(\"|\")\n",
        "        assert len(header) >= 2, f\"Invalid record id: {seq_record.id}\"\n",
        "\n",
        "        chain_id, entity_type = header[:2]\n",
        "        if entity_type.lower() not in {\"protein\", \"dna\", \"rna\", \"ccd\", \"smiles\"}:\n",
        "            msg = f\"Invalid entity type: {entity_type}\"\n",
        "            raise ValueError(msg)\n",
        "        if chain_id == \"\":\n",
        "            msg = \"Empty chain id in input fasta!\"\n",
        "            raise ValueError(msg)\n",
        "        if entity_type == \"\":\n",
        "            msg = \"Empty entity type in input fasta!\"\n",
        "            raise ValueError(msg)\n",
        "\n",
        "    # Convert to yaml format\n",
        "    sequences = []\n",
        "    for seq_record in records:\n",
        "        # Get chain id, entity type and sequence\n",
        "        header = seq_record.id.split(\"|\")\n",
        "        chain_id, entity_type = header[:2]\n",
        "        if len(header) == 3 and header[2] != \"\":\n",
        "            assert (\n",
        "                entity_type.lower() == \"protein\"\n",
        "            ), \"MSA_ID is only allowed for proteins\"\n",
        "            msa_id = header[2]\n",
        "        else:\n",
        "            msa_id = None\n",
        "\n",
        "        entity_type = entity_type.upper()\n",
        "        seq = str(seq_record.seq)\n",
        "\n",
        "        if entity_type == \"PROTEIN\":\n",
        "            molecule = {\n",
        "                \"protein\": {\n",
        "                    \"id\": chain_id,\n",
        "                    \"sequence\": seq,\n",
        "                    \"modifications\": [],\n",
        "                    \"msa\": msa_id,\n",
        "                },\n",
        "            }\n",
        "        elif entity_type == \"RNA\":\n",
        "            molecule = {\n",
        "                \"rna\": {\n",
        "                    \"id\": chain_id,\n",
        "                    \"sequence\": seq,\n",
        "                    \"modifications\": [],\n",
        "                },\n",
        "            }\n",
        "        elif entity_type == \"DNA\":\n",
        "            molecule = {\n",
        "                \"dna\": {\n",
        "                    \"id\": chain_id,\n",
        "                    \"sequence\": seq,\n",
        "                    \"modifications\": [],\n",
        "                }\n",
        "            }\n",
        "        elif entity_type.upper() == \"CCD\":\n",
        "            molecule = {\n",
        "                \"ligand\": {\n",
        "                    \"id\": chain_id,\n",
        "                    \"ccd\": seq,\n",
        "                    \"chiral_restraints\": use_restraints,\n",
        "                }\n",
        "            }\n",
        "        elif entity_type.upper() == \"SMILES\":\n",
        "            molecule = {\n",
        "                \"ligand\": {\n",
        "                    \"id\": chain_id,\n",
        "                    \"smiles\": seq,\n",
        "                    \"chiral_restraints\": use_restraints,\n",
        "                }\n",
        "            }\n",
        "\n",
        "        sequences.append(molecule)\n",
        "\n",
        "    data = {\n",
        "        \"sequences\": sequences,\n",
        "        \"bonds\": [],\n",
        "        \"version\": 1,\n",
        "    }\n",
        "    return data\n",
        "\n",
        "fasta_file = Path(jobname) / f\"{jobname}.fasta\"\n",
        "yaml_file =  Path(jobname) / f\"{jobname}.yaml\"\n",
        "data = parse_fasta(fasta_file, use_restraints=use_restraints)\n",
        "if use_restraints:\n",
        "    data[\"restraints_config\"] = {\n",
        "                  \"verbose\": False,\n",
        "                  \"start_sigma\": 1.0,\n",
        "                  \"bond\": {\"weight\": 1},\n",
        "                  \"angle\": {\"weight\": 1},\n",
        "                  \"chiral\": {\"weight\": 1},\n",
        "    }\n",
        "print(data)\n",
        "with yaml_file.open(\"w\") as f:\n",
        "    yaml.safe_dump(data, f)\n"
      ],
      "metadata": {
        "colab": {
          "base_uri": "https://localhost:8080/"
        },
        "id": "bUGHiJxYke91",
        "outputId": "30a08b47-057c-4f36-e24f-5f5e487e75c9"
      },
      "execution_count": 34,
      "outputs": [
        {
          "output_type": "stream",
          "name": "stdout",
          "text": [
            "{'sequences': [{'protein': {'id': 'A', 'sequence': 'PIAQIHILEGRSDEQKETLIREVSEAISRSLDAPLTSVRVIITEMAKGHFGIGGELASKK', 'modifications': [], 'msa': 'test_18b28_1/test_18b28_1_0.a3m'}}, {'ligand': {'id': 'B', 'smiles': 'N[C@H](Cc1ccc(O)cc1)C(=O)O', 'chiral_restraints': True}}, {'ligand': {'id': 'C', 'ccd': 'SAH', 'chiral_restraints': True}}], 'bonds': [], 'version': 1, 'restraints_config': {'verbose': False, 'start_sigma': 1.0, 'bond': {'weight': 1}, 'angle': {'weight': 1}, 'chiral': {'weight': 1}}}\n"
          ]
        }
      ]
    },
    {
      "cell_type": "code",
      "source": [
        "!ls"
      ],
      "metadata": {
        "id": "w49wBLLrpVbB",
        "outputId": "c0d73fdb-f7b0-4bae-eeb2-71e1b51abc9f",
        "colab": {
          "base_uri": "https://localhost:8080/"
        }
      },
      "execution_count": 37,
      "outputs": [
        {
          "output_type": "stream",
          "name": "stdout",
          "text": [
            "alphafold   colabfold\t     sample_data  test_18b28_0\tweights\n",
            "BOLZ_READY  COLABFOLD_READY  test_18b28   test_18b28_1\n"
          ]
        }
      ]
    },
    {
      "cell_type": "code",
      "source": [
        "!cat test_18b28_1/test_18b28_1.yaml"
      ],
      "metadata": {
        "colab": {
          "base_uri": "https://localhost:8080/"
        },
        "id": "Q2hNoXRRmSMX",
        "outputId": "892fa435-d21c-4f4b-a3f0-64677c4540f5"
      },
      "execution_count": 38,
      "outputs": [
        {
          "output_type": "stream",
          "name": "stdout",
          "text": [
            "bonds: []\n",
            "restraints_config:\n",
            "  angle:\n",
            "    weight: 1\n",
            "  bond:\n",
            "    weight: 1\n",
            "  chiral:\n",
            "    weight: 1\n",
            "  start_sigma: 1.0\n",
            "  verbose: false\n",
            "sequences:\n",
            "- protein:\n",
            "    id: A\n",
            "    modifications: []\n",
            "    msa: test_18b28_1/test_18b28_1_0.a3m\n",
            "    sequence: PIAQIHILEGRSDEQKETLIREVSEAISRSLDAPLTSVRVIITEMAKGHFGIGGELASKK\n",
            "- ligand:\n",
            "    chiral_restraints: true\n",
            "    id: B\n",
            "    smiles: N[C@H](Cc1ccc(O)cc1)C(=O)O\n",
            "- ligand:\n",
            "    ccd: SAH\n",
            "    chiral_restraints: true\n",
            "    id: C\n",
            "version: 1\n"
          ]
        }
      ]
    },
    {
      "cell_type": "code",
      "source": [
        "#@title Generate MSA with ColabFold\n",
        "!colabfold_batch \"{queries_path}\" \"{jobname}\" --msa-only"
      ],
      "metadata": {
        "id": "4aFDR4IhRe6y",
        "outputId": "3abe8e9e-5731-487a-8bc1-339816ed9dfd",
        "colab": {
          "base_uri": "https://localhost:8080/"
        }
      },
      "execution_count": 39,
      "outputs": [
        {
          "output_type": "stream",
          "name": "stdout",
          "text": [
            "2025-03-25 04:54:30,981 Running colabfold 1.5.5 (f0bf4652764ec3e9fd32a3d4e4e3dfa68f055e36)\n",
            "\n",
            "WARNING: You are welcome to use the default MSA server, however keep in mind that it's a\n",
            "limited shared resource only capable of processing a few thousand MSAs per day. Please\n",
            "submit jobs only from a single IP address. We reserve the right to limit access to the\n",
            "server case-by-case when usage exceeds fair use. If you require more MSAs: You can \n",
            "precompute all MSAs with `colabfold_search` or host your own API and pass it to `--host-url`\n",
            "\n",
            "2025-03-25 04:54:38,791 Running on GPU\n",
            "2025-03-25 04:54:39,074 Found 4 citations for tools or databases\n",
            "2025-03-25 04:54:39,074 Query 1/1: test_18b28_1_0 (length 60)\n",
            "COMPLETE: 100% 150/150 [00:02<00:00, 61.46it/s] \n",
            "2025-03-25 04:54:41,531 Saved test_18b28_1/test_18b28_1_0.pickle\n",
            "2025-03-25 04:54:42,309 Done\n"
          ]
        }
      ]
    },
    {
      "cell_type": "code",
      "source": [
        "#@title Predict structure using boltz\n",
        "!boltz predict --out_dir \"{jobname}\" \"{jobname}/{jobname}.yaml\" --cache weights"
      ],
      "metadata": {
        "id": "bgaBXxXtIAu9",
        "outputId": "d87dead4-e12d-4fa9-d7ac-dd3077836d56",
        "colab": {
          "base_uri": "https://localhost:8080/"
        }
      },
      "execution_count": null,
      "outputs": [
        {
          "output_type": "stream",
          "name": "stdout",
          "text": [
            "Checking input data.\n",
            "Running predictions for 1 structure\n",
            "Processing input data.\n",
            "100% 1/1 [00:00<00:00,  6.94it/s]\n",
            "GPU available: True (cuda), used: True\n",
            "TPU available: False, using: 0 TPU cores\n",
            "HPU available: False, using: 0 HPUs\n",
            "2025-03-25 04:56:06.765768: I tensorflow/core/platform/cpu_feature_guard.cc:210] This TensorFlow binary is optimized to use available CPU instructions in performance-critical operations.\n",
            "To enable the following instructions: AVX2 AVX512F FMA, in other operations, rebuild TensorFlow with the appropriate compiler flags.\n",
            "LOCAL_RANK: 0 - CUDA_VISIBLE_DEVICES: [0]\n",
            "Predicting DataLoader 0: 100% 1/1 [00:15<00:00, 15.83s/it]Number of failed examples: 0\n",
            "Predicting DataLoader 0: 100% 1/1 [00:15<00:00, 15.83s/it]\n"
          ]
        }
      ]
    },
    {
      "cell_type": "code",
      "source": [
        "#@title Download results\n",
        "# Import necessary modules\n",
        "import os\n",
        "import zipfile\n",
        "from google.colab import files\n",
        "import glob\n",
        "\n",
        "# Ensure 'jobname' variable is defined\n",
        "# jobname = 'test_abcde'  # Uncomment and set if not already defined\n",
        "\n",
        "# Name of the zip file\n",
        "zip_filename = f\"results_{jobname}.zip\"\n",
        "\n",
        "# Create a zip file and add the specified files without preserving directory structure\n",
        "with zipfile.ZipFile(zip_filename, 'w') as zipf:\n",
        "    coverage_png_files = glob.glob(os.path.join(jobname, '*_coverage.png'))\n",
        "    a3m_files = glob.glob(os.path.join(jobname, '*.a3m'))\n",
        "    for file in coverage_png_files + a3m_files:\n",
        "        arcname = os.path.basename(file)  # Use only the file name\n",
        "        zipf.write(file, arcname=arcname)\n",
        "\n",
        "    cif_files = glob.glob(os.path.join(jobname, f'boltz_results_{jobname}', 'predictions', jobname, '*.cif'))\n",
        "    for file in cif_files:\n",
        "        arcname = os.path.basename(file)  # Use only the file name\n",
        "        zipf.write(file, arcname=arcname)\n",
        "\n",
        "    hparams_file = os.path.join(jobname, f'boltz_results_{jobname}', 'lightning_logs', 'version_0', 'hparams.yaml')\n",
        "    if os.path.exists(hparams_file):\n",
        "        arcname = os.path.basename(hparams_file)  # Use only the file name\n",
        "        zipf.write(hparams_file, arcname=arcname)\n",
        "    else:\n",
        "        print(f\"Warning: {hparams_file} not found.\")\n",
        "\n",
        "# Download the zip file\n",
        "files.download(zip_filename)\n"
      ],
      "metadata": {
        "cellView": "form",
        "id": "jdSBSTOpaULF",
        "outputId": "08428806-1820-4086-d59b-02a409b70590",
        "colab": {
          "base_uri": "https://localhost:8080/",
          "height": 17
        }
      },
      "execution_count": null,
      "outputs": [
        {
          "output_type": "display_data",
          "data": {
            "text/plain": [
              "<IPython.core.display.Javascript object>"
            ],
            "application/javascript": [
              "\n",
              "    async function download(id, filename, size) {\n",
              "      if (!google.colab.kernel.accessAllowed) {\n",
              "        return;\n",
              "      }\n",
              "      const div = document.createElement('div');\n",
              "      const label = document.createElement('label');\n",
              "      label.textContent = `Downloading \"${filename}\": `;\n",
              "      div.appendChild(label);\n",
              "      const progress = document.createElement('progress');\n",
              "      progress.max = size;\n",
              "      div.appendChild(progress);\n",
              "      document.body.appendChild(div);\n",
              "\n",
              "      const buffers = [];\n",
              "      let downloaded = 0;\n",
              "\n",
              "      const channel = await google.colab.kernel.comms.open(id);\n",
              "      // Send a message to notify the kernel that we're ready.\n",
              "      channel.send({})\n",
              "\n",
              "      for await (const message of channel.messages) {\n",
              "        // Send a message to notify the kernel that we're ready.\n",
              "        channel.send({})\n",
              "        if (message.buffers) {\n",
              "          for (const buffer of message.buffers) {\n",
              "            buffers.push(buffer);\n",
              "            downloaded += buffer.byteLength;\n",
              "            progress.value = downloaded;\n",
              "          }\n",
              "        }\n",
              "      }\n",
              "      const blob = new Blob(buffers, {type: 'application/binary'});\n",
              "      const a = document.createElement('a');\n",
              "      a.href = window.URL.createObjectURL(blob);\n",
              "      a.download = filename;\n",
              "      div.appendChild(a);\n",
              "      a.click();\n",
              "      div.remove();\n",
              "    }\n",
              "  "
            ]
          },
          "metadata": {}
        },
        {
          "output_type": "display_data",
          "data": {
            "text/plain": [
              "<IPython.core.display.Javascript object>"
            ],
            "application/javascript": [
              "download(\"download_e7899242-f7fa-402e-a06d-dbf4b127aae4\", \"results_test_18b28.zip\", 1122170)"
            ]
          },
          "metadata": {}
        }
      ]
    }
  ]
}